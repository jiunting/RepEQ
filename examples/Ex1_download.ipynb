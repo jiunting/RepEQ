{
 "cells": [
  {
   "cell_type": "code",
   "execution_count": 1,
   "metadata": {},
   "outputs": [
    {
     "name": "stderr",
     "output_type": "stream",
     "text": [
      "[2020-01-24 16:16:29,364] - obspy.clients.fdsn.mass_downloader - INFO: Initializing FDSN client(s) for IRIS.\n",
      "[2020-01-24 16:16:29,465] - obspy.clients.fdsn.mass_downloader - INFO: Successfully initialized 1 client(s): IRIS.\n",
      "[2020-01-24 16:16:29,467] - obspy.clients.fdsn.mass_downloader - INFO: Total acquired or preexisting stations: 0\n",
      "[2020-01-24 16:16:29,468] - obspy.clients.fdsn.mass_downloader - INFO: Client 'IRIS' - Requesting reliable availability.\n",
      "[2020-01-24 16:16:29,597] - obspy.clients.fdsn.mass_downloader - INFO: Client 'IRIS' - Successfully requested availability (0.13 seconds)\n",
      "[2020-01-24 16:16:29,609] - obspy.clients.fdsn.mass_downloader - INFO: Client 'IRIS' - Found 13 stations (13 channels).\n",
      "[2020-01-24 16:16:29,615] - obspy.clients.fdsn.mass_downloader - INFO: Client 'IRIS' - Will attempt to download data from 13 stations.\n",
      "[2020-01-24 16:16:29,618] - obspy.clients.fdsn.mass_downloader - INFO: Client 'IRIS' - Status for 13 time intervals/channels before downloading: NEEDS_DOWNLOADING\n",
      "[2020-01-24 16:16:30,551] - obspy.clients.fdsn.mass_downloader - INFO: Client 'IRIS' - Successfully downloaded 10 channels (of 13)\n",
      "[2020-01-24 16:16:30,553] - obspy.clients.fdsn.mass_downloader - INFO: Client 'IRIS' - Launching basic QC checks...\n",
      "[2020-01-24 16:16:30,583] - obspy.clients.fdsn.mass_downloader - INFO: Client 'IRIS' - Downloaded 0.2 MB [246.15 KB/sec] of data, 0.0 MB of which were discarded afterwards.\n",
      "[2020-01-24 16:16:30,585] - obspy.clients.fdsn.mass_downloader - INFO: Client 'IRIS' - Status for 3 time intervals/channels after downloading: DOWNLOAD_FAILED\n",
      "[2020-01-24 16:16:30,586] - obspy.clients.fdsn.mass_downloader - INFO: Client 'IRIS' - Status for 10 time intervals/channels after downloading: DOWNLOADED\n",
      "[2020-01-24 16:16:30,621] - obspy.clients.fdsn.mass_downloader - INFO: Client 'IRIS' - Successfully downloaded './QQQQQ/20000101065839/stations/IU.TATO.xml'.\n",
      "[2020-01-24 16:16:30,633] - obspy.clients.fdsn.mass_downloader - INFO: Client 'IRIS' - Successfully downloaded './QQQQQ/20000101065839/stations/TW.HWAB.xml'.\n",
      "[2020-01-24 16:16:30,637] - obspy.clients.fdsn.mass_downloader - INFO: Client 'IRIS' - Successfully downloaded './QQQQQ/20000101065839/stations/TW.ANPB.xml'.\n",
      "[2020-01-24 16:16:30,731] - obspy.clients.fdsn.mass_downloader - INFO: Client 'IRIS' - Successfully downloaded './QQQQQ/20000101065839/stations/TW.LYUB.xml'.\n",
      "[2020-01-24 16:16:30,759] - obspy.clients.fdsn.mass_downloader - INFO: Client 'IRIS' - Successfully downloaded './QQQQQ/20000101065839/stations/TW.KMNB.xml'.\n",
      "[2020-01-24 16:16:30,761] - obspy.clients.fdsn.mass_downloader - INFO: Client 'IRIS' - Successfully downloaded './QQQQQ/20000101065839/stations/TW.NACB.xml'.\n",
      "[2020-01-24 16:16:30,818] - obspy.clients.fdsn.mass_downloader - INFO: Client 'IRIS' - Successfully downloaded './QQQQQ/20000101065839/stations/TW.TWKB.xml'.\n",
      "[2020-01-24 16:16:30,840] - obspy.clients.fdsn.mass_downloader - INFO: Client 'IRIS' - Successfully downloaded './QQQQQ/20000101065839/stations/TW.SSLB.xml'.\n",
      "[2020-01-24 16:16:30,869] - obspy.clients.fdsn.mass_downloader - INFO: Client 'IRIS' - Successfully downloaded './QQQQQ/20000101065839/stations/TW.WFSB.xml'.\n",
      "[2020-01-24 16:16:30,889] - obspy.clients.fdsn.mass_downloader - INFO: Client 'IRIS' - Successfully downloaded './QQQQQ/20000101065839/stations/TW.TWGB.xml'.\n",
      "[2020-01-24 16:16:30,934] - obspy.clients.fdsn.mass_downloader - INFO: Client 'IRIS' - Downloaded 10 station files [0.7 MB] in 0.3 seconds [2226.35 KB/sec].\n",
      "[2020-01-24 16:16:30,937] - obspy.clients.fdsn.mass_downloader - INFO: ============================== Final report\n",
      "[2020-01-24 16:16:30,940] - obspy.clients.fdsn.mass_downloader - INFO: 0 MiniSEED files [0.0 MB] already existed.\n",
      "[2020-01-24 16:16:30,941] - obspy.clients.fdsn.mass_downloader - INFO: 0 StationXML files [0.0 MB] already existed.\n",
      "[2020-01-24 16:16:30,944] - obspy.clients.fdsn.mass_downloader - INFO: Client 'IRIS' - Acquired 10 MiniSEED files [0.2 MB].\n",
      "[2020-01-24 16:16:30,945] - obspy.clients.fdsn.mass_downloader - INFO: Client 'IRIS' - Acquired 10 StationXML files [0.7 MB].\n",
      "[2020-01-24 16:16:30,947] - obspy.clients.fdsn.mass_downloader - INFO: Downloaded 0.9 MB in total.\n"
     ]
    },
    {
     "data": {
      "text/plain": [
       "('./QQQQQ/20000101065839/waveforms', './QQQQQ/20000101065839/stations')"
      ]
     },
     "execution_count": 1,
     "metadata": {},
     "output_type": "execute_result"
    }
   ],
   "source": [
    "#This example shows how to download waveforms from single event\n",
    "\n",
    "from repeq import download_tools\n",
    "\n",
    "#-------Parameters settings-----------\n",
    "evtime='2000-01-01T06:58:39.78'\n",
    "sec_bef_aft=[120,600]\n",
    "Ftype='circ'\n",
    "lon_lat=[120,24]\n",
    "range_rad=[0,6]\n",
    "provider=[\"IRIS\"]\n",
    "OUT='./QQQQQ'\n",
    "\n",
    "#-------Run the code------------------\n",
    "download_tools.download_waves(evtime,sec_bef_aft,Ftype,lon_lat,range_rad,provider,OUT)\n"
   ]
  }
 ],
 "metadata": {
  "kernelspec": {
   "display_name": "Python 3",
   "language": "python",
   "name": "python3"
  },
  "language_info": {
   "codemirror_mode": {
    "name": "ipython",
    "version": 3
   },
   "file_extension": ".py",
   "mimetype": "text/x-python",
   "name": "python",
   "nbconvert_exporter": "python",
   "pygments_lexer": "ipython3",
   "version": "3.6.8"
  }
 },
 "nbformat": 4,
 "nbformat_minor": 2
}
